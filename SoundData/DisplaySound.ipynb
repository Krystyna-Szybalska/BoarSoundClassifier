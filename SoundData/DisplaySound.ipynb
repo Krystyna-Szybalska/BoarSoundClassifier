{
 "cells": [
  {
   "cell_type": "code",
   "execution_count": null,
   "id": "d6db01a1-0a8e-47bb-a87d-0032034f5e5d",
   "metadata": {},
   "outputs": [],
   "source": [
    "import os\n",
    "from IPython.display import display, Audio\n",
    "import matplotlib.pyplot as plt\n",
    "import wave\n",
    "import numpy as np\n",
    "\n",
    "# Path to the folder containing the audio files\n",
    "folder_path = \"C:\\\\Users\\Krysia\\Desktop\\SoundData\\RawData\\BBC\\\\\"\n",
    "\n",
    "# Get a list of all files in the folder\n",
    "audio_files = [f for f in os.listdir(folder_path) if f.endswith(\".wav\")]\n",
    "\n",
    "# Loop through each audio file and display the audio player\n",
    "for audio_file in audio_files:\n",
    "    audio_path = os.path.join(folder_path, audio_file)\n",
    "    print(audio_file)\n",
    "    display(Audio(audio_path, autoplay=False))\n",
    "    \n",
    "    wav_obj = wave.open(audio_path, 'rb')\n",
    "    sample_freq = wav_obj.getframerate()\n",
    "    n_samples = wav_obj.getnframes()\n",
    "    t_audio = n_samples/sample_freq\n",
    "    n_channels = wav_obj.getnchannels()\n",
    "    signal_wave = wav_obj.readframes(n_samples)\n",
    "    signal_array = np.frombuffer(signal_wave, dtype=np.int16)\n",
    "    l_channel = signal_array[0::2]\n",
    "    r_channel = signal_array[1::2]\n",
    "    times = np.linspace(0, n_samples/sample_freq, num=n_samples)\n",
    "    plt.figure(figsize=(15, 5))\n",
    "    plt.plot(times, l_channel)\n",
    "    plt.title('Left Channel')\n",
    "    plt.ylabel('Signal Value')\n",
    "    plt.xlabel('Time (s)')\n",
    "    plt.xlim(0, t_audio)\n",
    "    plt.show()"
   ]
  },
  {
   "cell_type": "code",
   "execution_count": null,
   "id": "e65e6765-00b2-4cf7-b319-7823c33942d7",
   "metadata": {},
   "outputs": [],
   "source": []
  }
 ],
 "metadata": {
  "kernelspec": {
   "display_name": "Python 3 (ipykernel)",
   "language": "python",
   "name": "python3"
  },
  "language_info": {
   "codemirror_mode": {
    "name": "ipython",
    "version": 3
   },
   "file_extension": ".py",
   "mimetype": "text/x-python",
   "name": "python",
   "nbconvert_exporter": "python",
   "pygments_lexer": "ipython3",
   "version": "3.9.13"
  }
 },
 "nbformat": 4,
 "nbformat_minor": 5
}
