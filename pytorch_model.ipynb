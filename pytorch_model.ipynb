{
 "cells": [
  {
   "cell_type": "code",
   "id": "initial_id",
   "metadata": {
    "collapsed": true,
    "ExecuteTime": {
     "end_time": "2025-03-01T19:39:56.066340Z",
     "start_time": "2025-03-01T19:39:56.061160Z"
    }
   },
   "source": [
    "import os\n",
    "import numpy as np\n",
    "import pandas as pd\n",
    "import librosa\n",
    "import torch\n",
    "import torch.nn as nn\n",
    "import torch.optim as optim\n",
    "from sklearn.model_selection import train_test_split\n",
    "from sklearn.preprocessing import LabelEncoder\n",
    "from torch.utils.data import DataLoader, Dataset\n",
    "import matplotlib.pyplot as plt\n"
   ],
   "outputs": [],
   "execution_count": 99
  },
  {
   "metadata": {},
   "cell_type": "markdown",
   "source": "# Defining stuff",
   "id": "950b2895f9af2f72"
  },
  {
   "metadata": {
    "ExecuteTime": {
     "end_time": "2025-03-01T19:39:56.150616Z",
     "start_time": "2025-03-01T19:39:56.143616Z"
    }
   },
   "cell_type": "code",
   "source": [
    "# Custom Dataset\n",
    "class AudioDataset(Dataset):\n",
    "    def __init__(self, features, labels):\n",
    "        self.features = torch.tensor(features, dtype=torch.float32)\n",
    "        self.labels = torch.tensor(labels, dtype=torch.long)\n",
    "        self.file_paths = file_paths  # Store file paths\n",
    "\n",
    "    def __len__(self):\n",
    "        return len(self.features)\n",
    "\n",
    "    def __getitem__(self, idx):\n",
    "        return self.features[idx], self.labels[idx], self.file_paths[idx]  # Return file path as well"
   ],
   "id": "2b5c247525618c2c",
   "outputs": [],
   "execution_count": 100
  },
  {
   "metadata": {
    "ExecuteTime": {
     "end_time": "2025-03-01T19:39:56.171627Z",
     "start_time": "2025-03-01T19:39:56.163630Z"
    }
   },
   "cell_type": "code",
   "source": [
    "# Model Definition\n",
    "class AudioClassifier(nn.Module):\n",
    "    def __init__(self, input_size, num_classes):\n",
    "        super(AudioClassifier, self).__init__()\n",
    "        self.conv1 = nn.Conv1d(in_channels=1, out_channels=64, kernel_size=3, padding=1)\n",
    "        self.conv2 = nn.Conv1d(in_channels=64, out_channels=128, kernel_size=3, padding=1)\n",
    "        self.pool = nn.MaxPool1d(kernel_size=2)\n",
    "        self.dropout = nn.Dropout(0.25)\n",
    "        self.fc1 = nn.Linear(128 * (input_size // 4), 512)  # Adjust dimensions based on pooling\n",
    "        self.fc2 = nn.Linear(512, num_classes)\n",
    "\n",
    "    def forward(self, x):\n",
    "        x = torch.relu(self.conv1(x))\n",
    "        x = self.pool(x)\n",
    "        x = self.dropout(x)\n",
    "        x = torch.relu(self.conv2(x))\n",
    "        x = self.pool(x)\n",
    "        x = self.dropout(x)\n",
    "        x = x.view(x.size(0), -1)  # Flatten\n",
    "        x = torch.relu(self.fc1(x))\n",
    "        x = self.dropout(x)\n",
    "        x = self.fc2(x)\n",
    "        return x\n"
   ],
   "id": "a77623e5d6ee08a7",
   "outputs": [],
   "execution_count": 101
  },
  {
   "metadata": {
    "ExecuteTime": {
     "end_time": "2025-03-01T19:43:06.206180Z",
     "start_time": "2025-03-01T19:43:06.196762Z"
    }
   },
   "cell_type": "code",
   "source": [
    "def train_model(model, dataloaders, criterion, optimizer, device, num_epochs=25):\n",
    "    history = {'train_loss': [], 'val_loss': [], 'train_acc': [], 'val_acc': []}\n",
    "\n",
    "    for epoch in range(num_epochs):\n",
    "        for phase in ['train', 'val']:\n",
    "            running_loss = 0.0\n",
    "            correct_preds = 0\n",
    "            total_preds = 0\n",
    "\n",
    "            for inputs, labels in dataloaders[phase]:\n",
    "                inputs, labels = inputs.to(device), labels.to(device)\n",
    "\n",
    "                optimizer.zero_grad()\n",
    "\n",
    "                with torch.set_grad_enabled(phase == 'train'):\n",
    "                    outputs = model(inputs)\n",
    "                    loss = criterion(outputs, labels)\n",
    "\n",
    "                    if phase == 'train':\n",
    "                        loss.backward()\n",
    "                        optimizer.step()\n",
    "\n",
    "                running_loss += loss.item() * inputs.size(0)\n",
    "                preds = torch.argmax(outputs, dim=1)\n",
    "                correct_preds += torch.sum(preds == labels.argmax(dim=1))\n",
    "                total_preds += labels.size(0)\n",
    "\n",
    "            epoch_loss = running_loss / len(dataloaders[phase].dataset)\n",
    "            epoch_acc = correct_preds.double() / total_preds\n",
    "\n",
    "            if phase == 'train':\n",
    "                history['train_loss'].append(epoch_loss)\n",
    "                history['train_acc'].append(epoch_acc.item())\n",
    "            else:\n",
    "                history['val_loss'].append(epoch_loss)\n",
    "                history['val_acc'].append(epoch_acc.item())\n",
    "\n",
    "        print(f\"Epoch {epoch+1}/{num_epochs} - Train Loss: {history['train_loss'][-1]:.4f}, Train Acc: {history['train_acc'][-1]:.4f}, Val Loss: {history['val_loss'][-1]:.4f}, Val Acc: {history['val_acc'][-1]:.4f}\")\n",
    "\n",
    "    return model, history\n"
   ],
   "id": "246fcca39d51004a",
   "outputs": [],
   "execution_count": 112
  },
  {
   "metadata": {
    "ExecuteTime": {
     "end_time": "2025-03-01T19:39:56.345378Z",
     "start_time": "2025-03-01T19:39:56.331033Z"
    }
   },
   "cell_type": "code",
   "source": [
    "def plot_training_progress(training_history):\n",
    "    \"\"\"\n",
    "    Visualizes the training and validation loss and accuracy over epochs.\n",
    "\n",
    "    Parameters:\n",
    "    - training_history (dict): A dictionary containing 'train_loss', 'val_loss',\n",
    "                               'train_acc', and 'val_acc' for each epoch.\n",
    "    \"\"\"\n",
    "    epochs = range(1, len(training_history['train_loss']) + 1)\n",
    "\n",
    "    plt.figure(figsize=(12, 6))\n",
    "\n",
    "    # Plot loss\n",
    "    plt.subplot(1, 2, 1)\n",
    "    plt.plot(epochs, training_history['train_loss'], label=\"Train Loss\", marker=\"o\")\n",
    "    plt.plot(epochs, training_history['val_loss'], label=\"Validation Loss\", marker=\"o\")\n",
    "    plt.title(\"Loss Over Epochs\")\n",
    "    plt.xlabel(\"Epochs\")\n",
    "    plt.ylabel(\"Loss\")\n",
    "    plt.legend()\n",
    "    plt.grid()\n",
    "\n",
    "    # Plot accuracy\n",
    "    plt.subplot(1, 2, 2)\n",
    "    plt.plot(epochs, training_history['train_acc'], label=\"Train Accuracy\", marker=\"o\")\n",
    "    plt.plot(epochs, training_history['val_acc'], label=\"Validation Accuracy\", marker=\"o\")\n",
    "    plt.title(\"Accuracy Over Epochs\")\n",
    "    plt.xlabel(\"Epochs\")\n",
    "    plt.ylabel(\"Accuracy\")\n",
    "    plt.legend()\n",
    "    plt.grid()\n",
    "\n",
    "    plt.tight_layout()\n",
    "    plt.show()\n"
   ],
   "id": "f8f50df8e7eb4d29",
   "outputs": [],
   "execution_count": 103
  },
  {
   "metadata": {
    "ExecuteTime": {
     "end_time": "2025-03-01T19:39:56.359505Z",
     "start_time": "2025-03-01T19:39:56.351377Z"
    }
   },
   "cell_type": "code",
   "source": [
    "import random\n",
    "import librosa\n",
    "import numpy as np\n",
    "\n",
    "def add_noise(audio, noise_level=0.005):\n",
    "    \"\"\"\n",
    "    Adds Gaussian noise to the audio signal.\n",
    "\n",
    "    Parameters:\n",
    "    - audio (np.array): Audio signal.\n",
    "    - noise_level (float): Standard deviation of the noise.\n",
    "\n",
    "    Returns:\n",
    "    - np.array: Augmented audio signal with noise.\n",
    "    \"\"\"\n",
    "    noise = np.random.normal(0, noise_level, len(audio))\n",
    "    return audio + noise\n",
    "\n",
    "def time_stretch(audio, rate=1.1):\n",
    "    \"\"\"\n",
    "    Stretches the audio signal in time.\n",
    "\n",
    "    Parameters:\n",
    "    - audio (np.array): Audio signal.\n",
    "    - rate (float): Stretching factor (>1 speeds up, <1 slows down).\n",
    "\n",
    "    Returns:\n",
    "    - np.array: Time-stretched audio signal.\n",
    "    \"\"\"\n",
    "    return librosa.effects.time_stretch(y=audio, rate=rate)\n",
    "\n",
    "def pitch_shift(audio, sr, n_steps=2):\n",
    "    \"\"\"\n",
    "    Shifts the pitch of the audio signal.\n",
    "\n",
    "    Parameters:\n",
    "    - audio (np.array): Audio signal.\n",
    "    - sr (int): Sampling rate of the audio.\n",
    "    - n_steps (int): Number of semitones to shift.\n",
    "\n",
    "    Returns:\n",
    "    - np.array: Pitch-shifted audio signal.\n",
    "    \"\"\"\n",
    "    return librosa.effects.pitch_shift(audio, sr=sr, n_steps=n_steps)\n",
    "\n",
    "def random_augmentation(audio, sr):\n",
    "    \"\"\"\n",
    "    Applies a random augmentation to the audio signal.\n",
    "\n",
    "    Parameters:\n",
    "    - audio (np.array): Audio signal.\n",
    "    - sr (int): Sampling rate of the audio.\n",
    "\n",
    "    Returns:\n",
    "    - np.array: Augmented audio signal.\n",
    "    \"\"\"\n",
    "    augmentation_choice = random.choice([\"noise\", \"time_stretch\", \"pitch_shift\", \"none\"])\n",
    "    if augmentation_choice == \"noise\":\n",
    "        return add_noise(audio)\n",
    "    elif augmentation_choice == \"time_stretch\":\n",
    "        rate = random.uniform(0.8, 1.2)  # Random stretch factor\n",
    "        return time_stretch(audio, rate)\n",
    "    elif augmentation_choice == \"pitch_shift\":\n",
    "        n_steps = random.randint(-3, 3)  # Random pitch shift between -3 and +3 semitones\n",
    "        return pitch_shift(audio, sr, n_steps)\n",
    "    else:\n",
    "        return audio  # No augmentation\n"
   ],
   "id": "54ed0b2e81ce0913",
   "outputs": [],
   "execution_count": 104
  },
  {
   "metadata": {
    "ExecuteTime": {
     "end_time": "2025-03-01T19:39:56.415743Z",
     "start_time": "2025-03-01T19:39:56.406756Z"
    }
   },
   "cell_type": "code",
   "source": [
    "def load_data(data_path, metadata_path, augment=True):\n",
    "    \"\"\"\n",
    "    Loads audio data and extracts MFCC features.\n",
    "\n",
    "    Parameters:\n",
    "    - data_path (str): Path to the audio files.\n",
    "    - metadata_path (str): Path to the metadata CSV file.\n",
    "    - augment (bool): Whether to apply augmentation.\n",
    "\n",
    "    Returns:\n",
    "    - np.array: Features (MFCCs).\n",
    "    - np.array: Labels.\n",
    "    - list: File paths.\n",
    "    \"\"\"\n",
    "    features = []\n",
    "    labels = []\n",
    "    file_paths = []\n",
    "\n",
    "    metadata = pd.read_csv(metadata_path, sep=';')\n",
    "\n",
    "    for _, row in metadata.iterrows():\n",
    "        if row['Quality'] == 1:\n",
    "            file_path = os.path.join(data_path, f\"{row['FileName']}.wav\")\n",
    "\n",
    "            # Load the audio file\n",
    "            target_sr = 22050\n",
    "            audio, sample_rate = librosa.load(file_path, sr=target_sr)\n",
    "\n",
    "            # Apply augmentation if enabled\n",
    "            if augment:\n",
    "                audio = random_augmentation(audio, target_sr)\n",
    "\n",
    "            # Extract MFCC features\n",
    "            mfccs = librosa.feature.mfcc(y=audio, sr=target_sr, n_mfcc=40)\n",
    "            mfccs_scaled = np.mean(mfccs.T, axis=0)\n",
    "\n",
    "            # Append to lists\n",
    "            features.append(mfccs_scaled)\n",
    "            labels.append(row['Label'])\n",
    "            file_paths.append(file_path)\n",
    "\n",
    "    return np.array(features), np.array(labels), file_paths\n"
   ],
   "id": "5025619d6a2abdc4",
   "outputs": [],
   "execution_count": 105
  },
  {
   "metadata": {
    "ExecuteTime": {
     "end_time": "2025-03-01T19:39:56.534203Z",
     "start_time": "2025-03-01T19:39:56.519547Z"
    }
   },
   "cell_type": "code",
   "source": [
    "def split_data(features, labels, file_paths, test_size=0.15, val_size=0.15):\n",
    "    \"\"\"\n",
    "    Splits the dataset into train, validation, and test sets.\n",
    "\n",
    "    Parameters:\n",
    "    - features (np.array): Extracted MFCC features.\n",
    "    - labels (np.array): Corresponding labels.\n",
    "    - file_paths (list): File paths of audio samples.\n",
    "    - test_size (float): Proportion of data to use for testing.\n",
    "    - val_size (float): Proportion of data to use for validation.\n",
    "\n",
    "    Returns:\n",
    "    - (train_features, train_labels, train_paths)\n",
    "    - (val_features, val_labels, val_paths)\n",
    "    - (test_features, test_labels, test_paths)\n",
    "    \"\"\"\n",
    "\n",
    "    # First split: Train vs. (Validation + Test)\n",
    "    train_features, temp_features, train_labels, temp_labels, train_paths, temp_paths = train_test_split(\n",
    "        features, labels, file_paths, test_size=(test_size + val_size), stratify=labels, random_state=42\n",
    "    )\n",
    "\n",
    "    # Second split: Validation vs. Test\n",
    "    val_features, test_features, val_labels, test_labels, val_paths, test_paths = train_test_split(\n",
    "        temp_features, temp_labels, temp_paths, test_size=(test_size / (test_size + val_size)),\n",
    "        stratify=temp_labels, random_state=42\n",
    "    )\n",
    "\n",
    "    return (train_features, train_labels, train_paths), (val_features, val_labels, val_paths), (test_features, test_labels, test_paths)\n"
   ],
   "id": "fc72ba4278fcea7b",
   "outputs": [],
   "execution_count": 106
  },
  {
   "metadata": {
    "ExecuteTime": {
     "end_time": "2025-03-01T19:39:56.590958Z",
     "start_time": "2025-03-01T19:39:56.584956Z"
    }
   },
   "cell_type": "code",
   "source": [
    "def prepare_dataset(features, labels, label_encoder=None, num_classes=None):\n",
    "    \"\"\"\n",
    "    Prepares a dataset for PyTorch, including label encoding and one-hot conversion.\n",
    "\n",
    "    Parameters:\n",
    "    - features (np.array): Extracted MFCC features.\n",
    "    - labels (np.array): Corresponding labels.\n",
    "    - file_paths (list): List of file paths.\n",
    "    - label_encoder (LabelEncoder, optional): Pre-existing encoder (for validation/test splits).\n",
    "    - num_classes (int, optional): Number of classes (for one-hot encoding).\n",
    "\n",
    "    Returns:\n",
    "    - TensorDataset: Ready-to-use dataset.\n",
    "    - LabelEncoder: Fitted encoder (if newly created).\n",
    "    \"\"\"\n",
    "    # Encode labels (create new encoder if not provided)\n",
    "    if label_encoder is None:\n",
    "        label_encoder = LabelEncoder()\n",
    "        labels_encoded = label_encoder.fit_transform(labels)\n",
    "        num_classes = len(label_encoder.classes_)\n",
    "    else:\n",
    "        labels_encoded = label_encoder.transform(labels)\n",
    "\n",
    "    # Convert labels to one-hot encoding\n",
    "    labels_onehot = torch.nn.functional.one_hot(torch.tensor(labels_encoded), num_classes=num_classes).float()\n",
    "\n",
    "    # Create dataset\n",
    "    dataset = torch.utils.data.TensorDataset(\n",
    "        torch.tensor(features, dtype=torch.float32).unsqueeze(1),\n",
    "        labels_onehot\n",
    "    )\n",
    "\n",
    "    return dataset, label_encoder, num_classes\n"
   ],
   "id": "4bb295579307ccd2",
   "outputs": [],
   "execution_count": 107
  },
  {
   "metadata": {},
   "cell_type": "markdown",
   "source": "# Doing stuff",
   "id": "ccabfa8951bbbcd0"
  },
  {
   "metadata": {
    "ExecuteTime": {
     "end_time": "2025-03-01T19:39:56.643682Z",
     "start_time": "2025-03-01T19:39:56.637988Z"
    }
   },
   "cell_type": "code",
   "source": [
    "data_path = r\"C:\\Users\\Krysia\\Desktop\\Other\\Projekty\\Machine Learning\\BoarSoundClassifier\\Model\\SoundData\\PreparedData\"\n",
    "metadata_path = r\"C:\\Users\\Krysia\\Desktop\\Other\\Projekty\\Machine Learning\\BoarSoundClassifier\\Model\\SoundData\\Metadata.csv\""
   ],
   "id": "afc92f20409c5dd6",
   "outputs": [],
   "execution_count": 108
  },
  {
   "metadata": {
    "ExecuteTime": {
     "end_time": "2025-03-01T19:41:45.246898Z",
     "start_time": "2025-03-01T19:41:11.764037Z"
    }
   },
   "cell_type": "code",
   "source": [
    "# Step 1: Load full dataset\n",
    "features, labels, file_paths = load_data(data_path, metadata_path, augment=True)\n",
    "\n",
    "# Step 2: Split into train, validation, and test\n",
    "(train_features, train_labels, train_paths), \\\n",
    "(val_features, val_labels, val_paths), \\\n",
    "(test_features, test_labels, test_paths) =\\\n",
    "        split_data(features, labels, file_paths)\n",
    "\n",
    "# Step 3: Prepare datasets\n",
    "train_dataset, le, num_classes = prepare_dataset(train_features, train_labels)\n",
    "val_dataset, _, _ = prepare_dataset(val_features, val_labels, label_encoder=le, num_classes=num_classes)\n",
    "test_dataset, _, _ = prepare_dataset(test_features, test_labels, label_encoder=le, num_classes=num_classes)\n",
    "\n",
    "# Step 4: Create DataLoaders\n",
    "dataloaders = {\n",
    "    'train': DataLoader(train_dataset, batch_size=32, shuffle=True),\n",
    "    'val': DataLoader(val_dataset, batch_size=32, shuffle=False),\n",
    "    'test': DataLoader(test_dataset, batch_size=32, shuffle=False),\n",
    "}"
   ],
   "id": "7a842b78239a0386",
   "outputs": [],
   "execution_count": 110
  },
  {
   "metadata": {
    "ExecuteTime": {
     "end_time": "2025-03-01T19:43:18.666797Z",
     "start_time": "2025-03-01T19:43:12.269368Z"
    }
   },
   "cell_type": "code",
   "source": [
    "# Model, Loss, and Optimizer\n",
    "input_size = train_features.shape[1]  # Use train_features instead\n",
    "num_classes = len(le.classes_)\n",
    "device = torch.device(\"cuda\" if torch.cuda.is_available() else \"cpu\")\n",
    "num_classes = len(le.classes_)\n",
    "device = torch.device(\"cuda\" if torch.cuda.is_available() else \"cpu\")\n",
    "\n",
    "model = AudioClassifier(input_size=input_size, num_classes=num_classes)\n",
    "criterion = nn.CrossEntropyLoss()\n",
    "optimizer = optim.Adam(model.parameters(), lr=0.001)\n",
    "\n",
    "# Train the Model\n",
    "model, history = train_model(model, dataloaders, criterion, optimizer, device, num_epochs=25)"
   ],
   "id": "2cf6bc5effd180b7",
   "outputs": [
    {
     "name": "stdout",
     "output_type": "stream",
     "text": [
      "Epoch 1/25 - Train Loss: 2.9995, Train Acc: 0.6074, Val Loss: 0.5614, Val Acc: 0.7397\n",
      "Epoch 2/25 - Train Loss: 0.5112, Train Acc: 0.7529, Val Loss: 0.3645, Val Acc: 0.8425\n",
      "Epoch 3/25 - Train Loss: 0.3752, Train Acc: 0.8088, Val Loss: 0.3034, Val Acc: 0.8904\n",
      "Epoch 4/25 - Train Loss: 0.3245, Train Acc: 0.8441, Val Loss: 0.2490, Val Acc: 0.8904\n",
      "Epoch 5/25 - Train Loss: 0.2743, Train Acc: 0.8750, Val Loss: 0.2471, Val Acc: 0.8973\n",
      "Epoch 6/25 - Train Loss: 0.2402, Train Acc: 0.8912, Val Loss: 0.1791, Val Acc: 0.9384\n",
      "Epoch 7/25 - Train Loss: 0.2173, Train Acc: 0.9015, Val Loss: 0.2135, Val Acc: 0.9247\n",
      "Epoch 8/25 - Train Loss: 0.1798, Train Acc: 0.9206, Val Loss: 0.2871, Val Acc: 0.9247\n",
      "Epoch 9/25 - Train Loss: 0.1753, Train Acc: 0.9353, Val Loss: 0.2102, Val Acc: 0.9315\n",
      "Epoch 10/25 - Train Loss: 0.1558, Train Acc: 0.9324, Val Loss: 0.1752, Val Acc: 0.9521\n",
      "Epoch 11/25 - Train Loss: 0.1386, Train Acc: 0.9456, Val Loss: 0.2046, Val Acc: 0.9315\n",
      "Epoch 12/25 - Train Loss: 0.1320, Train Acc: 0.9441, Val Loss: 0.1819, Val Acc: 0.9452\n",
      "Epoch 13/25 - Train Loss: 0.1320, Train Acc: 0.9471, Val Loss: 0.1538, Val Acc: 0.9658\n",
      "Epoch 14/25 - Train Loss: 0.1196, Train Acc: 0.9603, Val Loss: 0.2290, Val Acc: 0.9247\n",
      "Epoch 15/25 - Train Loss: 0.1193, Train Acc: 0.9500, Val Loss: 0.1767, Val Acc: 0.9452\n",
      "Epoch 16/25 - Train Loss: 0.1155, Train Acc: 0.9676, Val Loss: 0.1717, Val Acc: 0.9452\n",
      "Epoch 17/25 - Train Loss: 0.0880, Train Acc: 0.9544, Val Loss: 0.1754, Val Acc: 0.9589\n",
      "Epoch 18/25 - Train Loss: 0.1225, Train Acc: 0.9471, Val Loss: 0.2190, Val Acc: 0.9315\n",
      "Epoch 19/25 - Train Loss: 0.0987, Train Acc: 0.9618, Val Loss: 0.1538, Val Acc: 0.9726\n",
      "Epoch 20/25 - Train Loss: 0.0858, Train Acc: 0.9721, Val Loss: 0.2001, Val Acc: 0.9658\n",
      "Epoch 21/25 - Train Loss: 0.0887, Train Acc: 0.9618, Val Loss: 0.1348, Val Acc: 0.9658\n",
      "Epoch 22/25 - Train Loss: 0.0857, Train Acc: 0.9750, Val Loss: 0.1492, Val Acc: 0.9589\n",
      "Epoch 23/25 - Train Loss: 0.0658, Train Acc: 0.9765, Val Loss: 0.1789, Val Acc: 0.9521\n",
      "Epoch 24/25 - Train Loss: 0.0717, Train Acc: 0.9765, Val Loss: 0.1156, Val Acc: 0.9658\n",
      "Epoch 25/25 - Train Loss: 0.0920, Train Acc: 0.9662, Val Loss: 0.1463, Val Acc: 0.9452\n"
     ]
    }
   ],
   "execution_count": 113
  },
  {
   "metadata": {
    "ExecuteTime": {
     "end_time": "2025-03-01T19:43:19.036551Z",
     "start_time": "2025-03-01T19:43:18.680798Z"
    }
   },
   "cell_type": "code",
   "source": "plot_training_progress(history)",
   "id": "190147a72d34b407",
   "outputs": [
    {
     "data": {
      "text/plain": [
       "<Figure size 1200x600 with 2 Axes>"
      ],
      "image/png": "[encoded data removed]"
     },
     "metadata": {},
     "output_type": "display_data"
    }
   ],
   "execution_count": 114
  },
  {
   "metadata": {
    "ExecuteTime": {
     "end_time": "2025-03-01T19:43:20.505982Z",
     "start_time": "2025-03-01T19:43:20.480800Z"
    }
   },
   "cell_type": "code",
   "source": [
    "# Evaluate on Test Data\n",
    "model.eval()\n",
    "correct_predictions = 0\n",
    "total_predictions = 0\n",
    "for inputs, labels in dataloaders['test']:\n",
    "    inputs = inputs.to(device)\n",
    "    labels = labels.to(device)\n",
    "\n",
    "    outputs = model(inputs)\n",
    "    preds = torch.argmax(outputs, dim=1)\n",
    "    correct_predictions += torch.sum(preds == labels.argmax(dim=1))  # Convert one-hot labels to class indices\n",
    "    total_predictions += labels.size(0)\n",
    "\n",
    "accuracy = correct_predictions.double() / total_predictions\n",
    "print(f\"Test Accuracy: {accuracy * 100:.2f}%\")"
   ],
   "id": "731fb2950a4e20b9",
   "outputs": [
    {
     "name": "stdout",
     "output_type": "stream",
     "text": [
      "Test Accuracy: 95.21%\n"
     ]
    }
   ],
   "execution_count": 115
  },
  {
   "metadata": {},
   "cell_type": "markdown",
   "source": "# Testing stuff",
   "id": "83b9708d449af023"
  },
  {
   "metadata": {
    "ExecuteTime": {
     "end_time": "2025-03-01T19:43:27.914109Z",
     "start_time": "2025-03-01T19:43:27.905560Z"
    }
   },
   "cell_type": "code",
   "source": [
    "from IPython.display import Audio\n",
    "import librosa\n",
    "\n",
    "def predict_and_play_sound(file_path, model, le, device, target_sr=22050):\n",
    "    \"\"\"\n",
    "    Loads an audio file, preprocesses it, predicts its class using the model,\n",
    "    and plays the audio.\n",
    "\n",
    "    Parameters:\n",
    "    - file_path (str): Path to the audio file.\n",
    "    - model (torch.nn.Module): Trained PyTorch model.\n",
    "    - le (LabelEncoder): Fitted LabelEncoder to decode class labels.\n",
    "    - device (torch.device): Device (CPU or GPU) where the model is loaded.\n",
    "    - target_sr (int): Target sample rate for loading the audio.\n",
    "    \"\"\"\n",
    "    # Load and preprocess the audio\n",
    "    audio, sr = librosa.load(file_path, sr=target_sr)\n",
    "    duration = librosa.get_duration(y=audio, sr=sr)\n",
    "    print(f\"Loaded audio file with duration: {duration:.2f}s\")\n",
    "\n",
    "    # Extract MFCCs\n",
    "    mfccs = librosa.feature.mfcc(y=audio, sr=sr, n_mfcc=40)\n",
    "    mfccs_scaled = np.mean(mfccs.T, axis=0)\n",
    "    mfccs_scaled = torch.tensor(mfccs_scaled, dtype=torch.float32).unsqueeze(0).unsqueeze(1).to(device)\n",
    "\n",
    "    # Predict class\n",
    "    model.eval()\n",
    "    with torch.no_grad():\n",
    "        outputs = model(mfccs_scaled)\n",
    "        predicted_index = torch.argmax(outputs, dim=1).item()\n",
    "        predicted_class = le.inverse_transform([predicted_index])[0]\n",
    "\n",
    "    print(f\"Predicted Class: {predicted_class}\")\n",
    "\n",
    "    # Play the sound\n",
    "    print(\"Playing the audio...\")\n",
    "    return Audio(audio, rate=sr)\n"
   ],
   "id": "273b438cb5cd5b2c",
   "outputs": [],
   "execution_count": 116
  },
  {
   "metadata": {},
   "cell_type": "code",
   "source": "print(\"Test file paths:\", test_paths[:10])",
   "id": "f92a2df0ac03030d",
   "outputs": [],
   "execution_count": null
  },
  {
   "metadata": {},
   "cell_type": "code",
   "source": [
    "for audio_file in test_paths[:10]:\n",
    "    audio_playback = predict_and_play_sound(audio_file, model, le, device)\n",
    "    display(audio_playback)  # This will play the audio in a Jupyter Notebook"
   ],
   "id": "bf141381c49611e7",
   "outputs": [],
   "execution_count": null
  },
  {
   "metadata": {},
   "cell_type": "code",
   "outputs": [],
   "execution_count": null,
   "source": "",
   "id": "8b705715ea566693"
  }
 ],
 "metadata": {
  "kernelspec": {
   "display_name": "Python 3",
   "language": "python",
   "name": "python3"
  },
  "language_info": {
   "codemirror_mode": {
    "name": "ipython",
    "version": 2
   },
   "file_extension": ".py",
   "mimetype": "text/x-python",
   "name": "python",
   "nbconvert_exporter": "python",
   "pygments_lexer": "ipython2",
   "version": "2.7.6"
  }
 },
 "nbformat": 4,
 "nbformat_minor": 5
}
